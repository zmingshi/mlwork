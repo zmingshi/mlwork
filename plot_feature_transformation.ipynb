{
 "cells": [
  {
   "cell_type": "code",
   "execution_count": 1,
   "metadata": {
    "collapsed": true
   },
   "outputs": [],
   "source": [
    "%matplotlib inline"
   ]
  },
  {
   "cell_type": "markdown",
   "metadata": {},
   "source": [
    "\n",
    "# Feature transformations with ensembles of trees\n",
    "\n",
    "\n",
    "Transform your features into a higher dimensional, sparse space. Then\n",
    "train a linear model on these features.\n",
    "\n",
    "First fit an ensemble of trees (totally random trees, a random\n",
    "forest, or gradient boosted trees) on the training set. Then each leaf\n",
    "of each tree in the ensemble is assigned a fixed arbitrary feature\n",
    "index in a new feature space. These leaf indices are then encoded in a\n",
    "one-hot fashion.\n",
    "\n",
    "Each sample goes through the decisions of each tree of the ensemble\n",
    "and ends up in one leaf per tree. The sample is encoded by setting\n",
    "feature values for these leaves to 1 and the other feature values to 0.\n",
    "\n",
    "The resulting transformer has then learned a supervised, sparse,\n",
    "high-dimensional categorical embedding of the data.\n",
    "\n"
   ]
  },
  {
   "cell_type": "code",
   "execution_count": 2,
   "metadata": {},
   "outputs": [
    {
     "name": "stdout",
     "output_type": "stream",
     "text": [
      "[[-1.31195976  0.05922712  0.04675065 ...,  1.11429335  1.16595316\n",
      "   0.95277777]\n",
      " [ 0.73048208 -0.39879798  1.14877387 ...,  1.72930232  0.46581252\n",
      "  -0.22762372]\n",
      " [ 1.12451537  0.36959044  0.73640005 ..., -0.57955917 -0.10214023\n",
      "  -2.15954465]\n",
      " ..., \n",
      " [-0.44011954 -0.3648611   0.13247199 ...,  0.0350504   0.46964275\n",
      "   0.80800214]\n",
      " [-1.3036859   0.36104309  1.220873   ..., -1.500089    0.7435263\n",
      "   0.26565638]\n",
      " [ 1.32330734  0.08307262 -0.0704902  ...,  1.13262653  1.1000763\n",
      "  -1.73888715]]\n",
      "[0 0 1 ..., 1 1 1]\n"
     ]
    }
   ],
   "source": [
    "# Author: Tim Head <betatim@gmail.com>\n",
    "#\n",
    "# License: BSD 3 clause\n",
    "\n",
    "import numpy as np\n",
    "np.random.seed(10)\n",
    "\n",
    "import matplotlib.pyplot as plt\n",
    "\n",
    "from sklearn.datasets import make_classification\n",
    "from sklearn.linear_model import LogisticRegression\n",
    "from sklearn.ensemble import (RandomTreesEmbedding, RandomForestClassifier,\n",
    "                              GradientBoostingClassifier)\n",
    "from sklearn.preprocessing import OneHotEncoder\n",
    "from sklearn.model_selection import train_test_split\n",
    "from sklearn.metrics import roc_curve, auc\n",
    "from sklearn.pipeline import make_pipeline\n",
    "\n",
    "n_estimator = 10\n",
    "X, y = make_classification(n_samples=80000)\n",
    "X_train, X_test, y_train, y_test = train_test_split(X, y, test_size=0.5)\n",
    "# It is important to train the ensemble of trees on a different subset\n",
    "# of the training data than the linear regression model to avoid\n",
    "# overfitting, in particular if the total number of leaves is\n",
    "# similar to the number of training samples\n",
    "X_train, X_train_lr, y_train, y_train_lr = train_test_split(X_train,\n",
    "                                                            y_train,\n",
    "                                                            test_size=0.5)\n",
    "print(X)\n",
    "print(y)"
   ]
  },
  {
   "cell_type": "code",
   "execution_count": 3,
   "metadata": {},
   "outputs": [
    {
     "name": "stdout",
     "output_type": "stream",
     "text": [
      "LR AUC: 0.9669\n"
     ]
    }
   ],
   "source": [
    "# Unsupervised transformation based on totally random trees\n",
    "rt = RandomTreesEmbedding(max_depth=3, n_estimators=n_estimator,\n",
    "\trandom_state=0)\n",
    "\n",
    "rt_lm = LogisticRegression()\n",
    "pipeline = make_pipeline(rt, rt_lm)\n",
    "pipeline.fit(X_train, y_train)\n",
    "y_pred_rt = pipeline.predict_proba(X_test)[:, 1]\n",
    "fpr_rt_lm, tpr_rt_lm, _ = roc_curve(y_test, y_pred_rt)\n",
    "print('LR AUC: {:.4f}'.format(auc(fpr_rt_lm, tpr_rt_lm)))"
   ]
  },
  {
   "cell_type": "code",
   "execution_count": 4,
   "metadata": {},
   "outputs": [
    {
     "name": "stdout",
     "output_type": "stream",
     "text": [
      "RF+LR AUC: 0.9724\n"
     ]
    }
   ],
   "source": [
    "# Supervised transformation based on random forests\n",
    "rf = RandomForestClassifier(max_depth=3, n_estimators=n_estimator)\n",
    "rf_enc = OneHotEncoder()\n",
    "rf_lm = LogisticRegression()\n",
    "rf.fit(X_train, y_train)\n",
    "rf_enc.fit(rf.apply(X_train))\n",
    "rf_lm.fit(rf_enc.transform(rf.apply(X_train_lr)), y_train_lr)\n",
    "y_pred_rf_lm = rf_lm.predict_proba(rf_enc.transform(rf.apply(X_test)))[:, 1]\n",
    "fpr_rf_lm, tpr_rf_lm, _ = roc_curve(y_test, y_pred_rf_lm)\n",
    "print('RF+LR AUC: {:.4f}'.format(auc(fpr_rf_lm, tpr_rf_lm)))"
   ]
  },
  {
   "cell_type": "code",
   "execution_count": 5,
   "metadata": {},
   "outputs": [
    {
     "name": "stdout",
     "output_type": "stream",
     "text": [
      "GBDT+LR AUC: 0.9847\n"
     ]
    }
   ],
   "source": [
    "grd = GradientBoostingClassifier(n_estimators=n_estimator)\n",
    "grd_enc = OneHotEncoder()\n",
    "grd_lm = LogisticRegression()\n",
    "grd.fit(X_train, y_train)\n",
    "grd_enc.fit(grd.apply(X_train)[:, :, 0])\n",
    "grd_lm.fit(grd_enc.transform(grd.apply(X_train_lr)[:, :, 0]), y_train_lr)\n",
    "\n",
    "y_pred_grd_lm = grd_lm.predict_proba(\n",
    "    grd_enc.transform(grd.apply(X_test)[:, :, 0]))[:, 1]\n",
    "fpr_grd_lm, tpr_grd_lm, _ = roc_curve(y_test, y_pred_grd_lm)\n",
    "print('GBDT+LR AUC: {:.4f}'.format(auc(fpr_grd_lm, tpr_grd_lm)))"
   ]
  },
  {
   "cell_type": "code",
   "execution_count": 6,
   "metadata": {},
   "outputs": [
    {
     "data": {
      "text/plain": [
       "(20000, 10, 1)"
      ]
     },
     "execution_count": 6,
     "metadata": {},
     "output_type": "execute_result"
    }
   ],
   "source": [
    "leaf_predi = grd.apply(X_train_lr)\n",
    "leaf_predi.shape"
   ]
  },
  {
   "cell_type": "code",
   "execution_count": 7,
   "metadata": {},
   "outputs": [
    {
     "name": "stdout",
     "output_type": "stream",
     "text": [
      "GBDT AUC: 0.9822\n",
      "RF AUC: 0.9657\n"
     ]
    }
   ],
   "source": [
    "# The gradient boosted model by itself\n",
    "y_pred_grd = grd.predict_proba(X_test)[:, 1]\n",
    "fpr_grd, tpr_grd, _ = roc_curve(y_test, y_pred_grd)\n",
    "print('GBDT AUC: {:.4f}'.format(auc(fpr_grd, tpr_grd)))\n",
    "\n",
    "# The random forest model by itself\n",
    "y_pred_rf = rf.predict_proba(X_test)[:, 1]\n",
    "fpr_rf, tpr_rf, _ = roc_curve(y_test, y_pred_rf)\n",
    "print('RF AUC: {:.4f}'.format(auc(fpr_rf, tpr_rf)))"
   ]
  },
  {
   "cell_type": "code",
   "execution_count": 10,
   "metadata": {},
   "outputs": [
    {
     "data": {
      "image/png": "[encoded data removed]",
      "text/plain": [
       "<matplotlib.figure.Figure at 0x7fe38c3a5490>"
      ]
     },
     "metadata": {},
     "output_type": "display_data"
    },
    {
     "data": {
      "image/png": "[encoded data removed]",
      "text/plain": [
       "<matplotlib.figure.Figure at 0x7fe37ec8f250>"
      ]
     },
     "metadata": {},
     "output_type": "display_data"
    }
   ],
   "source": [
    "# import seaborn as sns\n",
    "plt.figure(1)\n",
    "plt.plot([0, 1], [0, 1], 'k--')\n",
    "plt.plot(fpr_rt_lm, tpr_rt_lm, label='RT + LR')\n",
    "plt.plot(fpr_rf, tpr_rf, label='RF')\n",
    "plt.plot(fpr_rf_lm, tpr_rf_lm, label='RF + LR')\n",
    "plt.plot(fpr_grd, tpr_grd, label='GBT')\n",
    "plt.plot(fpr_grd_lm, tpr_grd_lm, label='GBT + LR')\n",
    "plt.xlabel('False positive rate')\n",
    "plt.ylabel('True positive rate')\n",
    "plt.title('ROC curve')\n",
    "plt.legend(loc='best')\n",
    "plt.show()\n",
    "\n",
    "plt.figure(2)\n",
    "plt.xlim(0, 0.2)\n",
    "plt.ylim(0.8, 1)\n",
    "plt.plot([0, 1], [0, 1], 'k--')\n",
    "plt.plot(fpr_rt_lm, tpr_rt_lm, label='RT + LR')\n",
    "plt.plot(fpr_rf, tpr_rf, label='RF')\n",
    "plt.plot(fpr_rf_lm, tpr_rf_lm, label='RF + LR')\n",
    "plt.plot(fpr_grd, tpr_grd, label='GBT')\n",
    "plt.plot(fpr_grd_lm, tpr_grd_lm, label='GBT + LR')\n",
    "plt.xlabel('False positive rate')\n",
    "plt.ylabel('True positive rate')\n",
    "plt.title('ROC curve (zoomed in at top left)')\n",
    "plt.legend(loc='best')\n",
    "plt.show()"
   ]
  },
  {
   "cell_type": "markdown",
   "metadata": {
    "collapsed": true
   },
   "source": [
    "###  交叉熵\n",
    "* 交叉熵代价函数的产生以及与二次代价的优劣：http://blog.csdn.net/yimingsilence/article/details/52740638\n",
    "* 现有关于样本集的2个概率分布p和q，其中p为真实分布，q非真实分布。按照真实分布p来衡量识别一个样本的所需要的编码长度的期望(即平均编码长度) $H(p)$, 使用错误分布q来表示来自真实分布p的平均编码长度为 $H(p,q)$, H(p,q) 称之为“交叉熵”\n",
    "$$H(p)=\\sum_{i}^{}p(i)log\\frac{1}{p(i)}$$\n",
    "$$H(p,q)=\\sum_{i}^{}p(i)log\\frac{1}{q(i)}$$\n",
    "$H(p,q) \\ge H(p)$ 恒成立\n",
    "*  当且仅当 q 分布与真实分布p 相同， 等号成立.\n",
    "\n",
    "* 这里将由q得到的平均编码长度比由p得到的平均编码长度多出的bit数称为“相对熵”, 又被称为KL散度(Kullback–Leibler divergence，KLD)\n",
    "$$D(p||q)=H(p,q)-H(p)= \\sum_{i}^{}p(i)log\\frac{p(i)}{q(i)}$$\n",
    "* 相对熵表示2个函数或概率分布的差异性：差异越大则相对熵越大，差异越小则相对熵越小，特别地，若2者相同则熵为0。\n",
    "* 交叉熵可在神经网络(机器学习)中作为损失函数，p表示真实标记的分布，q则为训练后的模型的预测标记分布，交叉熵损失函数可以衡量p与q的相似性。交叉熵作为损失函数还有一个好处是使用sigmoid函数在梯度下降时能避免均方误差损失函数学习速率降低的问题，因为学习速率可以被输出的误差所控制。"
   ]
  },
  {
   "cell_type": "markdown",
   "metadata": {},
   "source": [
    "### 交叉熵损失函数\n",
    "$$C = -\\frac{1}{n}\\sum_{x}[y \\ln a + (1-y)\\ln (1-a)]$$\n",
    "$$a = \\sigma(z), z =\\sum_{i}w_ix_i+b$$\n",
    "* 交叉熵大于0\n",
    "* 当真实输出a与期望输出y接近的时候，代价函数接近于0.(比如y=0，a～0；y=1，a~1时，代价函数都接近0)\n",
    "$$\\frac{C}{w_i} = \\frac{1}{n}\\sum_{i}(\\sigma(z)-y)x_i$$\n",
    "$$\\frac{C}{b} = \\frac{1}{n}\\sum_{i}(\\sigma(z)-y)$$\n",
    "* 权重的更新是受$\\sigma(z)-y$这一项影响，即受误差的影响。所以当误差大的时候，权重更新就快，当误差小的时候，权重的更新就慢。\n",
    "\n",
    "### 对数似然损失\n",
    "http://deeplearning.stanford.edu/wiki/index.php/Softmax%E5%9B%9E%E5%BD%92\n",
    "* 对数似然损失代价函数在二分类时就可以化简为交叉熵代价函数的形式，因此两者其实是一致的"
   ]
  },
  {
   "cell_type": "markdown",
   "metadata": {
    "collapsed": true
   },
   "source": [
    "### liblinear 实现细节问题\n",
    "* 首先对训练数据进行排序(group_classes)， 然后根据label 出现顺序，对训练数据分组。\n",
    "* 对于(label: -1/+1)二分类并且首次出现的是负例，则强制交换，将正样本提前。\n",
    "* 对于其他label(0/1)的二分类，最终得到的参数w 可能对应则不确定，与label 在训练集中初选顺序有关。\n",
    "\n",
    "```c++\n",
    "\n",
    "// label: label name, start: begin of each class, count: #data of classes, perm: indices to the original data\n",
    "// perm, length l, must be allocated before calling this subroutine\n",
    "static void group_classes(const problem *prob, int *nr_class_ret, int **label_ret, int **start_ret, int **count_ret, int *perm)\n",
    "{\n",
    "\t......\n",
    "\n",
    "\tfor(i=0;i<l;i++)\n",
    "\t{\n",
    "\t\tint this_label = (int)prob->y[i];\n",
    "\t\tint j;\n",
    "\t\tfor(j=0;j<nr_class;j++)\n",
    "\t\t{\n",
    "\t\t\tif(this_label == label[j])\n",
    "\t\t\t{\n",
    "\t\t\t\t++count[j];\n",
    "\t\t\t\tbreak;\n",
    "\t\t\t}\n",
    "\t\t}\n",
    "\t\tdata_label[i] = j;\n",
    "\t\tif(j == nr_class)\n",
    "\t\t{\n",
    "\t\t\tif(nr_class == max_nr_class)\n",
    "\t\t\t{\n",
    "\t\t\t\tmax_nr_class *= 2;\n",
    "\t\t\t\tlabel = (int *)realloc(label,max_nr_class*sizeof(int));\n",
    "\t\t\t\tcount = (int *)realloc(count,max_nr_class*sizeof(int));\n",
    "\t\t\t}\n",
    "\t\t\tlabel[nr_class] = this_label;\n",
    "\t\t\tcount[nr_class] = 1;\n",
    "\t\t\t++nr_class;\n",
    "\t\t}\n",
    "\t}\n",
    "\n",
    "\t//\n",
    "\t// Labels are ordered by their first occurrence in the training set. \n",
    "\t// However, for two-class sets with -1/+1 labels and -1 appears first, \n",
    "\t// we swap labels to ensure that internally the binary SVM has positive data corresponding to the +1 instances.\n",
    "\t//\n",
    "\tif (nr_class == 2 && label[0] == -1 && label[1] == 1)\n",
    "\t{\n",
    "\t\tswap(label[0],label[1]);\n",
    "\t\tswap(count[0],count[1]);\n",
    "\t\tfor(i=0;i<l;i++)\n",
    "\t\t{\n",
    "\t\t\tif(data_label[i] == 0)\n",
    "\t\t\t\tdata_label[i] = 1;\n",
    "\t\t\telse\n",
    "\t\t\t\tdata_label[i] = 0;\n",
    "\t\t}\n",
    "\t}\n",
    "\n",
    "\tint *start = Malloc(int,nr_class);\n",
    "\tstart[0] = 0;\n",
    "\tfor(i=1;i<nr_class;i++)\n",
    "\t\tstart[i] = start[i-1]+count[i-1];\n",
    "\tfor(i=0;i<l;i++)\n",
    "\t{\n",
    "\t\tperm[start[data_label[i]]] = i;\n",
    "\t\t++start[data_label[i]];\n",
    "\t}\n",
    "\tstart[0] = 0;\n",
    "\tfor(i=1;i<nr_class;i++)\n",
    "\t\tstart[i] = start[i-1]+count[i-1];\n",
    "\n",
    "\t*nr_class_ret = nr_class;\n",
    "\t*label_ret = label;\n",
    "\t*start_ret = start;\n",
    "\t*count_ret = count;\n",
    "\tfree(data_label);\n",
    "}\n",
    "\n",
    "\n",
    "model* train(const problem *prob, const parameter *param)\n",
    "{\n",
    "\tint i,j;\n",
    "\tint l = prob->l;\n",
    "\tint n = prob->n;\n",
    "\tint w_size = prob->n;\n",
    "\tmodel *model_ = Malloc(model,1);\n",
    "\n",
    "\tif(prob->bias>=0)\n",
    "\t\tmodel_->nr_feature=n-1;\n",
    "\telse\n",
    "\t\tmodel_->nr_feature=n;\n",
    "\tmodel_->param = *param;\n",
    "\tmodel_->bias = prob->bias;\n",
    "\n",
    "\tif(check_regression_model(model_))\n",
    "\t{\n",
    "\t\tmodel_->w = Malloc(double, w_size);\n",
    "\t\tfor(i=0; i<w_size; i++)\n",
    "\t\t\tmodel_->w[i] = 0;\n",
    "\t\tmodel_->nr_class = 2;\n",
    "\t\tmodel_->label = NULL;\n",
    "\t\ttrain_one(prob, param, model_->w, 0, 0);\n",
    "\t}\n",
    "\telse\n",
    "\t{\n",
    "\t\tint nr_class;\n",
    "\t\tint *label = NULL;\n",
    "\t\tint *start = NULL;\n",
    "\t\tint *count = NULL;\n",
    "\t\tint *perm = Malloc(int,l);\n",
    "\n",
    "\t\t// *group training data of the same class*\n",
    "\t\tgroup_classes(prob,&nr_class,&label,&start,&count,perm);\n",
    "\n",
    "\t\tmodel_->nr_class=nr_class;\n",
    "\t\tmodel_->label = Malloc(int,nr_class);\n",
    "\t\tfor(i=0;i<nr_class;i++)\n",
    "\t\t\tmodel_->label[i] = label[i];\n",
    "\n",
    "\t\t......\n",
    "\t\t// constructing the subproblem\n",
    "\t\tfeature_node **x = Malloc(feature_node *,l);\n",
    "\t\tfor(i=0;i<l;i++)\n",
    "\t\t\tx[i] = prob->x[perm[i]];\n",
    "\n",
    "\t\tint k;\n",
    "\t\tproblem sub_prob;\n",
    "\t\tsub_prob.l = l;\n",
    "\t\tsub_prob.n = n;\n",
    "\t\tsub_prob.x = Malloc(feature_node *,sub_prob.l);\n",
    "\t\tsub_prob.y = Malloc(double,sub_prob.l);\n",
    "\n",
    "\t\tfor(k=0; k<sub_prob.l; k++)\n",
    "\t\t\tsub_prob.x[k] = x[k];\n",
    "\n",
    "\t\t// multi-class svm by Crammer and Singer\n",
    "\t\tif(param->solver_type == MCSVM_CS)\n",
    "\t\t{\n",
    "\t\t\t......\n",
    "\t\t}\n",
    "\t\telse\n",
    "\t\t{\n",
    "\t\t\tif(nr_class == 2)\n",
    "\t\t\t{\n",
    "\t\t\t\tmodel_->w=Malloc(double, w_size);\n",
    "\n",
    "\t\t\t\tint e0 = start[0]+count[0];\n",
    "\t\t\t\tk=0;\n",
    "\t\t\t\tfor(; k<e0; k++)\n",
    "\t\t\t\t\tsub_prob.y[k] = +1;\n",
    "\t\t\t\tfor(; k<sub_prob.l; k++)\n",
    "\t\t\t\t\tsub_prob.y[k] = -1;\n",
    "\t\t\t\t\n",
    "\t\t\t\tif(param->init_sol != NULL)\n",
    "\t\t\t\t\tfor(i=0;i<w_size;i++)\n",
    "\t\t\t\t\t\tmodel_->w[i] = param->init_sol[i];\n",
    "\t\t\t\telse\n",
    "\t\t\t\t\tfor(i=0;i<w_size;i++)\n",
    "\t\t\t\t\t\tmodel_->w[i] = 0;\n",
    "\n",
    "\t\t\t\ttrain_one(&sub_prob, param, model_->w, weighted_C[0], weighted_C[1]);\n",
    "\t\t\t}\n",
    "\t\t\t......\n",
    "\n",
    "\t\t}\n",
    "\t}\n",
    "\treturn model_;\n",
    "}\n",
    "\n",
    "```"
   ]
  },
  {
   "cell_type": "code",
   "execution_count": null,
   "metadata": {
    "collapsed": true
   },
   "outputs": [],
   "source": []
  }
 ],
 "metadata": {
  "kernelspec": {
   "display_name": "Python 2",
   "language": "python",
   "name": "python2"
  },
  "language_info": {
   "codemirror_mode": {
    "name": "ipython",
    "version": 2
   },
   "file_extension": ".py",
   "mimetype": "text/x-python",
   "name": "python",
   "nbconvert_exporter": "python",
   "pygments_lexer": "ipython2",
   "version": "2.7.13"
  }
 },
 "nbformat": 4,
 "nbformat_minor": 1
}

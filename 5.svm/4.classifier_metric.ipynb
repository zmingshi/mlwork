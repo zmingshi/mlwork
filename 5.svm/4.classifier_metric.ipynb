{
 "cells": [
  {
   "cell_type": "code",
   "execution_count": 1,
   "metadata": {
    "collapsed": true
   },
   "outputs": [],
   "source": [
    "#!/usr/bin/python\n",
    "# -*- coding:utf-8 -*-\n",
    "\n",
    "import numpy as np\n",
    "from sklearn.metrics import accuracy_score\n",
    "from sklearn.metrics import precision_score, recall_score, f1_score, fbeta_score\n",
    "from sklearn.metrics import precision_recall_fscore_support, classification_report"
   ]
  },
  {
   "cell_type": "code",
   "execution_count": 2,
   "metadata": {
    "collapsed": false
   },
   "outputs": [
    {
     "name": "stdout",
     "output_type": "stream",
     "text": [
      "Accuracy：\t0.5\n",
      "Precision:\t0.6\n"
     ]
    }
   ],
   "source": [
    "y_true = np.array([1, 1, 1, 1, 0, 0])\n",
    "y_hat = np.array([1, 0, 1, 1, 1, 1])\n",
    "print 'Accuracy：\\t', accuracy_score(y_true, y_hat)\n",
    "\n",
    "# The precision is the ratio 'tp / (tp + fp)' where 'tp' is the number of\n",
    "# true positives and 'fp' the number of false positives. The precision is\n",
    "# intuitively the ability of the classifier not to label as positive a sample\n",
    "# that is negative.\n",
    "# The best value is 1 and the worst value is 0.\n",
    "precision = precision_score(y_true, y_hat)\n",
    "print 'Precision:\\t', precision"
   ]
  },
  {
   "cell_type": "code",
   "execution_count": 3,
   "metadata": {
    "collapsed": false
   },
   "outputs": [
    {
     "name": "stdout",
     "output_type": "stream",
     "text": [
      "Recall:  \t0.75\n"
     ]
    }
   ],
   "source": [
    "# The recall is the ratio 'tp / (tp + fn)' where 'tp' is the number of\n",
    "# true positives and 'fn' the number of false negatives. The recall is\n",
    "# intuitively the ability of the classifier to find all the positive samples.\n",
    "# The best value is 1 and the worst value is 0.\n",
    "recall = recall_score(y_true, y_hat)\n",
    "print 'Recall:  \\t', recall"
   ]
  },
  {
   "cell_type": "code",
   "execution_count": 4,
   "metadata": {
    "collapsed": false
   },
   "outputs": [
    {
     "name": "stdout",
     "output_type": "stream",
     "text": [
      "f1 score: \t0.666666666667\n",
      "0.666666666667\n"
     ]
    }
   ],
   "source": [
    "# F1 score, also known as balanced F-score or F-measure\n",
    "# The F1 score can be interpreted as a weighted average of the precision and\n",
    "# recall, where an F1 score reaches its best value at 1 and worst score at 0.\n",
    "# The relative contribution of precision and recall to the F1 score are\n",
    "# equal. The formula for the F1 score is:\n",
    "#     F1 = 2 * (precision * recall) / (precision + recall)\n",
    "print 'f1 score: \\t', f1_score(y_true, y_hat)\n",
    "print 2 * (precision * recall) / (precision + recall)"
   ]
  },
  {
   "cell_type": "code",
   "execution_count": 6,
   "metadata": {
    "collapsed": false
   },
   "outputs": [
    {
     "name": "stdout",
     "output_type": "stream",
     "text": [
      "F-beta：\n",
      "\tbeta=    0.001\tF-beta=0.60000\n",
      "\tbeta=    0.010\tF-beta=0.60001\n",
      "\tbeta=    0.100\tF-beta=0.60119\n",
      "\tbeta=    1.000\tF-beta=0.66667\n",
      "\tbeta=   10.000\tF-beta=0.74815\n",
      "\tbeta=  100.000\tF-beta=0.74998\n",
      "\tbeta= 1000.000\tF-beta=0.75000\n"
     ]
    }
   ],
   "source": [
    "# The F-beta score is the weighted harmonic mean of precision and recall,\n",
    "# reaching its optimal value at 1 and its worst value at 0.\n",
    "# The 'beta' parameter determines the weight of precision in the combined\n",
    "# score. 'beta < 1' lends more weight to precision, while 'beta > 1'\n",
    "# favors recall ('beta -> 0' considers only precision, 'beta -> inf' only recall).\n",
    "print 'F-beta：'\n",
    "for beta in np.logspace(-3, 3, num=7, base=10):\n",
    "    fbeta = fbeta_score(y_true, y_hat, beta=beta)\n",
    "    print '\\tbeta=%9.3f\\tF-beta=%.5f' % (beta, fbeta)\n",
    "    # print (1+beta**2)*precision*recall / (beta**2 * precision + recall)"
   ]
  },
  {
   "cell_type": "code",
   "execution_count": 7,
   "metadata": {
    "collapsed": false
   },
   "outputs": [
    {
     "name": "stdout",
     "output_type": "stream",
     "text": [
      "(array([ 0. ,  0.6]), array([ 0.  ,  0.75]), array([ 0.        ,  0.66666667]), array([2, 4]))\n",
      "             precision    recall  f1-score   support\n",
      "\n",
      "          0       0.00      0.00      0.00         2\n",
      "          1       0.60      0.75      0.67         4\n",
      "\n",
      "avg / total       0.40      0.50      0.44         6\n",
      "\n"
     ]
    }
   ],
   "source": [
    "print precision_recall_fscore_support(y_true, y_hat, beta=1)\n",
    "print classification_report(y_true, y_hat)"
   ]
  },
  {
   "cell_type": "code",
   "execution_count": null,
   "metadata": {
    "collapsed": true
   },
   "outputs": [],
   "source": []
  }
 ],
 "metadata": {
  "kernelspec": {
   "display_name": "Python 2",
   "language": "python",
   "name": "python2"
  },
  "language_info": {
   "codemirror_mode": {
    "name": "ipython",
    "version": 2
   },
   "file_extension": ".py",
   "mimetype": "text/x-python",
   "name": "python",
   "nbconvert_exporter": "python",
   "pygments_lexer": "ipython2",
   "version": "2.7.12"
  }
 },
 "nbformat": 4,
 "nbformat_minor": 2
}

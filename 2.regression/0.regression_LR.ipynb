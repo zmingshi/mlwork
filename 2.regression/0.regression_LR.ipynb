{
 "cells": [
  {
   "cell_type": "markdown",
   "metadata": {},
   "source": [
    "## 线性回归\n",
    "\n",
    "$$h_\\theta (\\mathbf x) = \\sum_{i=0}^n\\theta_i x_i = \\theta^T \\mathbf x$$\n",
    "\n",
    "### 似然函数\n",
    "$$y^{(i)} = \\theta^Tx^{(i)} + \\epsilon^{(i)}$$\n",
    "* 其中$x^{(i)}$ 为第$i$个样本, 误差$\\epsilon^{(i)}$ 服从均值为0，方差为$\\sigma^2$ 的高斯分布(中心极限定理), 共$m$ 个样本.\n",
    "$$p\\left(\\epsilon^{(i)}\\right) = \\frac{1}{\\sqrt{2\\pi\\sigma^2}} \\exp\\left( \\frac{\\left(\\epsilon^{(i)}\\right)^2}{2\\sigma^2} \\right)$$\n",
    "\n",
    "$$p\\left(y^{(i)}|x^{(i)};\\theta \\right) = \\frac{1}{\\sqrt{2\\pi\\sigma^2}} \\exp\\left( \\frac{\\left(y^{(i)} - \\theta^Tx^{(i)}\\right)^2}{2\\sigma^2} \\right)$$\n",
    "\n",
    "$$\\begin{align}\n",
    "L(\\theta) &= \\prod_{i=1}^m p\\left(y^{(i)}|x^{(i)};\\theta \\right) \\\\\n",
    "          &= \\prod_{i=1}^m \\frac{1}{\\sqrt{2\\pi\\sigma^2}} \\exp\\left( \\frac{\\left(y^{(i)} - \\theta^Tx^{(i)}\\right)^2}{2\\sigma^2} \\right)\n",
    "\\end{align}$$\n",
    "\n",
    "* 上述似然函数取对数得到如下结果：\n",
    "$$\\begin{align}\n",
    "l(\\theta) &= \\log L(\\theta) \\\\\n",
    "          &= \\log \\prod_{i=1}^m \\frac{1}{\\sqrt{2\\pi\\sigma^2}} \\exp\\left( \\frac{\\left(y^{(i)} - \\theta^Tx^{(i)}\\right)^2}{2\\sigma^2} \\right) \\\\\n",
    "          &= \\sum_{i=1}^m\\log \\frac{1}{\\sqrt{2\\pi\\sigma^2}} \\exp\\left( \\frac{\\left(y^{(i)} - \\theta^Tx^{(i)}\\right)^2}{2\\sigma^2} \\right) \\\\\n",
    "          &= m\\log \\frac{1}{\\sqrt{2\\pi\\sigma^2}} - \\frac{1}{2\\sigma^2}\\sum_{i=1}^m\\left(y^{(i)} - \\theta^Tx^{(i)}\\right)^2\n",
    "\\end{align}$$\n",
    "* 最小二乘\n",
    "$$J(\\theta) = \\frac{1}{2}\\sum_{i=1}^m\\left(y^{(i)} - \\theta^Tx^{(i)}\\right)^2$$"
   ]
  },
  {
   "cell_type": "markdown",
   "metadata": {
    "collapsed": true
   },
   "source": [
    "## FM\n",
    "$$\\hat y(\\mathbf x) = \\omega_0 + \\sum_{i=1}^n \\omega_ix_i + \\sum_{i=1}^n\\sum_{j=i+1}^n \\langle\\mathbf v_i, \\mathbf v_j\\rangle x_ix_j$$\n",
    "* $\\mathbf\\omega \\in \\mathbb R^n, \\mathbf V \\in \\mathbb R^{n*k}, \\langle\\mathbf v_i, \\mathbf v_j\\rangle = \\sum_{f=1}^k v_{i,f} \\cdot v_{j,f}$\n",
    "* 其中$ \\sum_{i=1}^n\\sum_{j=i+1}^n \\langle\\mathbf v_i, \\mathbf v_j\\rangle x_ix_j$ 可以做如下化简：\n",
    "$$\\begin{align}  \n",
    "&\\sum_{i=1}^n\\sum_{j=i+1}^n \\langle\\mathbf v_i, \\mathbf v_j\\rangle x_ix_j \\\\\n",
    "=& \\frac{1}{2}\\left( \\sum_{i=1}^n\\sum_{j=1}^n \\langle\\mathbf v_i, \\mathbf v_j\\rangle x_ix_j  - \\sum_{i=1}^n \\langle\\mathbf v_i, \\mathbf v_i\\rangle x_ix_i \\right) \\\\\n",
    "=& \\frac{1}{2}\\left( \\sum_{i=1}^n\\sum_{j=1}^n\\sum_{f=1}^k v_{i,f}v_{j,f}x_ix_j  - \\sum_{i=1}^n \\sum_{f=1}^k v_{i,f}v_{i,f} x_ix_i \\right) \\\\\n",
    "=& \\frac{1}{2}\\sum_{f=1}^k \\left( \\sum_{i=1}^nv_{i,f}x_i\\sum_{j=1}^nv_{j,f}x_j  - \\sum_{i=1}^n v_{i,f}^2 x_i^2 \\right) \\\\\n",
    "=& \\frac{1}{2}\\sum_{f=1}^k \\left( \\left(\\sum_{i=1}^nv_{i,f}x_i \\right)^2  - \\sum_{i=1}^n v_{i,f}^2 x_i^2 \\right)\n",
    "\\end{align}$$"
   ]
  },
  {
   "cell_type": "code",
   "execution_count": null,
   "metadata": {
    "collapsed": true
   },
   "outputs": [],
   "source": []
  }
 ],
 "metadata": {
  "kernelspec": {
   "display_name": "Python 2",
   "language": "python",
   "name": "python2"
  },
  "language_info": {
   "codemirror_mode": {
    "name": "ipython",
    "version": 2
   },
   "file_extension": ".py",
   "mimetype": "text/x-python",
   "name": "python",
   "nbconvert_exporter": "python",
   "pygments_lexer": "ipython2",
   "version": "2.7.13"
  }
 },
 "nbformat": 4,
 "nbformat_minor": 2
}

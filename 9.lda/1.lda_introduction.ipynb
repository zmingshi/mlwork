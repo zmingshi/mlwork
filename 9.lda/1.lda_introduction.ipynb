{
 "cells": [
  {
   "cell_type": "code",
   "execution_count": 1,
   "metadata": {
    "collapsed": false
   },
   "outputs": [],
   "source": [
    "# !/usr/bin/python\n",
    "# -*- coding:utf-8 -*-\n",
    "\n",
    "from gensim import corpora, models, similarities\n",
    "from pprint import pprint"
   ]
  },
  {
   "cell_type": "code",
   "execution_count": 12,
   "metadata": {
    "collapsed": false
   },
   "outputs": [
    {
     "name": "stdout",
     "output_type": "stream",
     "text": [
      "After\n",
      "Text = \n",
      "[['human', 'machine', 'interface', 'lab', 'abc', 'computer', 'applications'],\n",
      " ['survey', 'user', 'opinion', 'computer', 'system', 'response', 'time'],\n",
      " ['eps', 'user', 'interface', 'management', 'system'],\n",
      " ['system', 'human', 'system', 'engineering', 'testing', 'eps'],\n",
      " ['relation', 'user', 'perceived', 'response', 'time', 'error', 'measurement'],\n",
      " ['generation', 'random', 'binary', 'unordered', 'trees'],\n",
      " ['intersection', 'graph', 'paths', 'trees'],\n",
      " ['graph', 'minors', 'iv', 'widths', 'trees', 'well', 'quasi', 'ordering'],\n",
      " ['graph', 'minors', 'survey']]\n",
      "Dictionary(35 unique tokens: [u'minors', u'generation', u'testing', u'iv', u'engineering']...)\n",
      "TF-IDF:\n",
      "[(0, 1), (1, 1), (2, 1), (3, 1), (4, 1), (5, 1), (6, 1)]\n",
      "[(4, 1), (7, 1), (8, 1), (9, 1), (10, 1), (11, 1), (12, 1)]\n",
      "[(6, 1), (7, 1), (9, 1), (13, 1), (14, 1)]\n",
      "[(5, 1), (7, 2), (14, 1), (15, 1), (16, 1)]\n",
      "[(9, 1), (10, 1), (12, 1), (17, 1), (18, 1), (19, 1), (20, 1)]\n",
      "[(21, 1), (22, 1), (23, 1), (24, 1), (25, 1)]\n",
      "[(25, 1), (26, 1), (27, 1), (28, 1)]\n",
      "[(25, 1), (26, 1), (29, 1), (30, 1), (31, 1), (32, 1), (33, 1), (34, 1)]\n",
      "[(8, 1), (26, 1), (29, 1)]\n"
     ]
    }
   ],
   "source": [
    "# import logging\n",
    "# logging.basicConfig(format='%(asctime)s : %(levelname)s : %(message)s', level=logging.INFO)\n",
    "\n",
    "\n",
    "f = open('../dataset/LDA_test.txt')\n",
    "stop_list = set('for a of the and to in'.split())\n",
    "# texts = [line.strip().split() for line in f]\n",
    "# print 'Before'\n",
    "# pprint(texts)\n",
    "print 'After'\n",
    "texts = [[word for word in line.strip().lower().split() if word not in stop_list] for line in f]\n",
    "print 'Text = '\n",
    "pprint(texts)\n",
    "\n",
    "dictionary = corpora.Dictionary(texts)\n",
    "print dictionary\n",
    "V = len(dictionary)\n",
    "corpus = [dictionary.doc2bow(text) for text in texts]\n",
    "corpus_tfidf = models.TfidfModel(corpus)[corpus]\n",
    "corpus_tfidf = corpus\n",
    "\n",
    "print 'TF-IDF:'\n",
    "for c in corpus_tfidf:\n",
    "    print c"
   ]
  },
  {
   "cell_type": "code",
   "execution_count": 13,
   "metadata": {
    "collapsed": false
   },
   "outputs": [
    {
     "name": "stdout",
     "output_type": "stream",
     "text": [
      "\n",
      "LSI Model:\n",
      "[[(0, -0.93349819167926529), (1, 0.10508952614086213)],\n",
      " [(0, -2.031992374687027), (1, -0.047145314121741486)],\n",
      " [(0, -1.5351342836582078), (1, 0.13488784052204891)],\n",
      " [(0, -1.9540077194594514), (1, 0.21780498576075544)],\n",
      " [(0, -1.2902472956004136), (1, -0.0022521437499390114)],\n",
      " [(0, -0.022783081905506469), (1, -0.77780526043267684)],\n",
      " [(0, -0.056715675769210182), (1, -1.182770344670486)],\n",
      " [(0, -0.12360003320648194), (1, -2.6343068608236839)],\n",
      " [(0, -0.23560627195889228), (1, -0.94079362036683112)]]\n",
      "LSI Topics:\n",
      "[(0,\n",
      "  u'-0.579*\"system\" + -0.376*\"user\" + -0.270*\"eps\" + -0.257*\"time\" + -0.257*\"response\"'),\n",
      " (1,\n",
      "  u'-0.480*\"graph\" + -0.464*\"trees\" + -0.361*\"minors\" + -0.266*\"ordering\" + -0.266*\"widths\"')]\n",
      "Similarity:\n",
      "[array([ 1.        ,  0.9908607 ,  0.99970078,  0.9999994 ,  0.9935261 ,\n",
      "       -0.08272626, -0.06414512, -0.06517283,  0.13288835], dtype=float32),\n",
      " array([ 0.9908607 ,  0.99999994,  0.99386358,  0.99100804,  0.99976987,\n",
      "        0.0524564 ,  0.07105229,  0.070025  ,  0.26536649], dtype=float32),\n",
      " array([ 0.99970078,  0.99386358,  0.99999994,  0.99972701,  0.99600756,\n",
      "       -0.05832579, -0.03971674, -0.04074576,  0.15709123], dtype=float32),\n",
      " array([ 0.9999994 ,  0.99100804,  0.99972701,  1.        ,  0.99365008,\n",
      "       -0.08163348, -0.06305084, -0.06407862,  0.13397504], dtype=float32),\n",
      " array([ 0.9935261 ,  0.99976987,  0.99600756,  0.99365008,  0.99999994,\n",
      "        0.03102366,  0.04963995,  0.04861134,  0.24462426], dtype=float32),\n",
      " array([-0.08272626,  0.0524564 , -0.05832579, -0.08163348,  0.03102366,\n",
      "        0.99999994,  0.99982643,  0.99984509,  0.97674036], dtype=float32),\n",
      " array([-0.06414512,  0.07105229, -0.03971674, -0.06305084,  0.04963995,\n",
      "        0.99982643,  1.        ,  0.99999952,  0.98056573], dtype=float32),\n",
      " array([-0.06517283,  0.070025  , -0.04074576, -0.06407862,  0.04861134,\n",
      "        0.99984509,  0.99999952,  1.        ,  0.98036319], dtype=float32),\n",
      " array([ 0.13288835,  0.26536649,  0.15709123,  0.13397504,  0.24462426,\n",
      "        0.97674036,  0.98056573,  0.98036319,  1.        ], dtype=float32)]\n"
     ]
    }
   ],
   "source": [
    "print '\\nLSI Model:'\n",
    "lsi = models.LsiModel(corpus_tfidf, num_topics=2, id2word=dictionary)\n",
    "topic_result = [a for a in lsi[corpus_tfidf]]\n",
    "pprint(topic_result)\n",
    "print 'LSI Topics:'\n",
    "pprint(lsi.print_topics(num_topics=2, num_words=5))\n",
    "similarity = similarities.MatrixSimilarity(lsi[corpus_tfidf])  # similarities.Similarity()\n",
    "print 'Similarity:'\n",
    "pprint(list(similarity))"
   ]
  },
  {
   "cell_type": "code",
   "execution_count": 10,
   "metadata": {
    "collapsed": false
   },
   "outputs": [
    {
     "name": "stdout",
     "output_type": "stream",
     "text": [
      "\n",
      "LDA Model:\n",
      "Document-Topic:\n",
      "\n",
      "[[(0, 0.025280871010914075), (1, 0.97471912898908586)],\n",
      " [(0, 0.96914505638960813), (1, 0.030854943610391903)],\n",
      " [(0, 0.034741296972532351), (1, 0.96525870302746763)],\n",
      " [(0, 0.029221774346908546), (1, 0.97077822565309146)],\n",
      " [(0, 0.96954395819861716), (1, 0.030456041801382804)],\n",
      " [(0, 0.034657492511389922), (1, 0.96534250748861006)],\n",
      " [(0, 0.042774687942772914), (1, 0.95722531205722705)],\n",
      " [(0, 0.97305775900189584), (1, 0.026942240998104213)],\n",
      " [(0, 0.93353004063037026), (1, 0.066469959369629697)]]\n",
      "[(0, 0.025280745164659491), (1, 0.9747192548353405)]\n",
      "[(0, 0.96914846305816882), (1, 0.030851536941831108)]\n",
      "[(0, 0.0347453586090819), (1, 0.9652546413909181)]\n",
      "[(0, 0.029218556242708273), (1, 0.9707814437572917)]\n",
      "[(0, 0.96954645111139437), (1, 0.03045354888860571)]\n",
      "[(0, 0.034651734566355598), (1, 0.96534826543364438)]\n",
      "[(0, 0.04277527076375278), (1, 0.95722472923624724)]\n",
      "[(0, 0.97305887809702707), (1, 0.026941121902972927)]\n",
      "[(0, 0.93353732927120081), (1, 0.066462670728799092)]\n",
      "Topic 0\n",
      "[(u'user', 0.062976170177062904),\n",
      " (u'graph', 0.062318430733880041),\n",
      " (u'system', 0.054423127783555784),\n",
      " (u'trees', 0.05065903032593401),\n",
      " (u'response', 0.049755501248778672),\n",
      " (u'survey', 0.049624685925016739),\n",
      " (u'time', 0.049317121746269885),\n",
      " (u'minors', 0.047465053250086021),\n",
      " (u'computer', 0.039944483482714781),\n",
      " (u'opinion', 0.028531652815575726)]\n",
      "Topic 1\n",
      "[(u'system', 0.079707430551984829),\n",
      " (u'trees', 0.061236165945694906),\n",
      " (u'user', 0.049085336043331228),\n",
      " (u'graph', 0.047037869537187249),\n",
      " (u'eps', 0.046889490444920301),\n",
      " (u'interface', 0.046446274735788301),\n",
      " (u'human', 0.046187062236691293),\n",
      " (u'computer', 0.039724016461389622),\n",
      " (u'binary', 0.027679251597528032),\n",
      " (u'generation', 0.027565007061503683)]\n",
      "Similarity:\n",
      "[array([ 1.        ,  0.0577235 ,  0.99994946,  0.9999913 ,  0.05729285,\n",
      "        0.99995035,  0.99982452,  0.05357934,  0.09686547], dtype=float32),\n",
      " array([ 0.0577235 ,  1.        ,  0.067757  ,  0.06188484,  0.99999994,\n",
      "        0.06767008,  0.07641473,  0.99999142,  0.99922931], dtype=float32),\n",
      " array([ 0.99994946,  0.067757  ,  0.99999994,  0.99998266,  0.06732663,\n",
      "        1.        ,  0.99996227,  0.06361537,  0.10686647], dtype=float32),\n",
      " array([ 0.9999913 ,  0.06188484,  0.99998266,  1.        ,  0.0614543 ,\n",
      "        0.99998319,  0.9998939 ,  0.05774168,  0.10101382], dtype=float32),\n",
      " array([ 0.05729285,  0.99999994,  0.06732663,  0.0614543 ,  1.        ,\n",
      "        0.06723971,  0.07598463,  0.99999315,  0.99921232], dtype=float32),\n",
      " array([ 0.99995035,  0.06767008,  1.        ,  0.99998319,  0.06723971,\n",
      "        1.        ,  0.99996156,  0.06352843,  0.10677986], dtype=float32),\n",
      " array([ 0.99982452,  0.07641473,  0.99996227,  0.9998939 ,  0.07598463,\n",
      "        0.99996156,  0.99999994,  0.07227562,  0.11549298], dtype=float32),\n",
      " array([ 0.05357934,  0.99999142,  0.06361537,  0.05774168,  0.99999315,\n",
      "        0.06352843,  0.07227562,  1.        ,  0.99905783], dtype=float32),\n",
      " array([ 0.09686547,  0.99922931,  0.10686647,  0.10101382,  0.99921232,\n",
      "        0.10677986,  0.11549298,  0.99905783,  1.        ], dtype=float32)]\n"
     ]
    }
   ],
   "source": [
    "print '\\nLDA Model:'\n",
    "num_topics = 2\n",
    "lda = models.LdaModel(corpus_tfidf, num_topics=num_topics, id2word=dictionary,\n",
    "                      alpha='auto', eta='auto', minimum_probability=0.001, passes=10)\n",
    "doc_topic = [doc_t for doc_t in lda[corpus_tfidf]]\n",
    "print 'Document-Topic:\\n'\n",
    "pprint(doc_topic)\n",
    "for doc_topic in lda.get_document_topics(corpus_tfidf):\n",
    "    print doc_topic\n",
    "for topic_id in range(num_topics):\n",
    "    print 'Topic', topic_id\n",
    "    # pprint(lda.get_topic_terms(topicid=topic_id))\n",
    "    pprint(lda.show_topic(topic_id))\n",
    "similarity = similarities.MatrixSimilarity(lda[corpus_tfidf])\n",
    "print 'Similarity:'\n",
    "pprint(list(similarity))"
   ]
  },
  {
   "cell_type": "code",
   "execution_count": 11,
   "metadata": {
    "collapsed": false
   },
   "outputs": [
    {
     "name": "stdout",
     "output_type": "stream",
     "text": [
      "\n",
      "\n",
      "USE WITH CARE--\n",
      "HDA Model:\n",
      "[[(0, 0.47240708315171914),\n",
      "  (1, 0.024149375871514302),\n",
      "  (2, 0.4512384975842329),\n",
      "  (3, 0.013203617778441546)],\n",
      " [(0, 0.033980445100950683),\n",
      "  (1, 0.49008495884283748),\n",
      "  (2, 0.42372199820758821),\n",
      "  (3, 0.013210865061152629)],\n",
      " [(0, 0.32986844048434577),\n",
      "  (1, 0.57677892928735641),\n",
      "  (2, 0.023745932357579061),\n",
      "  (3, 0.017604665486647193),\n",
      "  (4, 0.013268877326194289)],\n",
      " [(0, 0.4498580728883107),\n",
      "  (1, 0.47006773553020514),\n",
      "  (2, 0.020410406482071007),\n",
      "  (3, 0.015090567264096605),\n",
      "  (4, 0.011373370960948143)],\n",
      " [(0, 0.032441929534242207),\n",
      "  (1, 0.024278106171404339),\n",
      "  (2, 0.44767624174126019),\n",
      "  (3, 0.45660225001003663)],\n",
      " [(0, 0.35139237849335431),\n",
      "  (1, 0.5552795961718322),\n",
      "  (2, 0.023721936230142869),\n",
      "  (3, 0.017603930497861339),\n",
      "  (4, 0.013268997733512474)],\n",
      " [(0, 0.057220737179990329),\n",
      "  (1, 0.83051221330986891),\n",
      "  (2, 0.028692243629207595),\n",
      "  (3, 0.021171023604029334),\n",
      "  (4, 0.015923986114891233),\n",
      "  (5, 0.011926935658507158)],\n",
      " [(0, 0.03016431039113639),\n",
      "  (1, 0.9075692312260103),\n",
      "  (2, 0.015851336172275226),\n",
      "  (3, 0.011746793691611732)],\n",
      " [(0, 0.81172690736880182),\n",
      "  (1, 0.048202702981105336),\n",
      "  (2, 0.035643368223197539),\n",
      "  (3, 0.026423879158955707),\n",
      "  (4, 0.019903406065197918),\n",
      "  (5, 0.014908660584155816),\n",
      "  (6, 0.011014427779618611)]]\n",
      "HDA Topics:\n",
      "[(0, u'0.165*testing + 0.106*applications + 0.086*interface + 0.058*relation + 0.058*unordered'), (1, u'0.152*user + 0.052*random + 0.051*management + 0.050*error + 0.049*binary')]\n"
     ]
    }
   ],
   "source": [
    "hda = models.HdpModel(corpus_tfidf, id2word=dictionary)\n",
    "topic_result = [a for a in hda[corpus_tfidf]]\n",
    "print '\\n\\nUSE WITH CARE--\\nHDA Model:'\n",
    "pprint(topic_result)\n",
    "print 'HDA Topics:'\n",
    "print hda.print_topics(num_topics=2, num_words=5)"
   ]
  },
  {
   "cell_type": "code",
   "execution_count": null,
   "metadata": {
    "collapsed": true
   },
   "outputs": [],
   "source": []
  }
 ],
 "metadata": {
  "kernelspec": {
   "display_name": "Python 2",
   "language": "python",
   "name": "python2"
  },
  "language_info": {
   "codemirror_mode": {
    "name": "ipython",
    "version": 2
   },
   "file_extension": ".py",
   "mimetype": "text/x-python",
   "name": "python",
   "nbconvert_exporter": "python",
   "pygments_lexer": "ipython2",
   "version": "2.7.12"
  }
 },
 "nbformat": 4,
 "nbformat_minor": 2
}
